{
 "cells": [
  {
   "cell_type": "code",
   "execution_count": 1,
   "id": "a234a86d",
   "metadata": {
    "_cell_guid": "b1076dfc-b9ad-4769-8c92-a6c4dae69d19",
    "_uuid": "8f2839f25d086af736a60e9eeb907d3b93b6e0e5",
    "execution": {
     "iopub.execute_input": "2025-03-22T19:04:54.559160Z",
     "iopub.status.busy": "2025-03-22T19:04:54.558767Z",
     "iopub.status.idle": "2025-03-22T19:05:11.257140Z",
     "shell.execute_reply": "2025-03-22T19:05:11.255456Z"
    },
    "papermill": {
     "duration": 16.703799,
     "end_time": "2025-03-22T19:05:11.259136",
     "exception": false,
     "start_time": "2025-03-22T19:04:54.555337",
     "status": "completed"
    },
    "tags": []
   },
   "outputs": [
    {
     "name": "stdout",
     "output_type": "stream",
     "text": [
      "Ultralytics 8.3.94 🚀 Python-3.10.12 torch-2.5.1+cu121 CPU (Intel Xeon 2.20GHz)\n",
      "Setup complete ✅ (4 CPUs, 31.4 GB RAM, 6170.0/8062.4 GB disk)\n"
     ]
    }
   ],
   "source": [
    "%pip install ultralytics\n",
    "import ultralytics\n",
    "ultralytics.checks()"
   ]
  },
  {
   "cell_type": "code",
   "execution_count": null,
   "id": "b43f5ad7",
   "metadata": {
    "papermill": {
     "duration": 0.001678,
     "end_time": "2025-03-22T19:05:11.262974",
     "exception": false,
     "start_time": "2025-03-22T19:05:11.261296",
     "status": "completed"
    },
    "tags": []
   },
   "outputs": [],
   "source": []
  }
 ],
 "metadata": {
  "kaggle": {
   "accelerator": "none",
   "dataSources": [
    {
     "datasetId": 6697657,
     "sourceId": 10792607,
     "sourceType": "datasetVersion"
    }
   ],
   "dockerImageVersionId": 30918,
   "isGpuEnabled": false,
   "isInternetEnabled": true,
   "language": "python",
   "sourceType": "notebook"
  },
  "kernelspec": {
   "display_name": "Python 3",
   "language": "python",
   "name": "python3"
  },
  "language_info": {
   "codemirror_mode": {
    "name": "ipython",
    "version": 3
   },
   "file_extension": ".py",
   "mimetype": "text/x-python",
   "name": "python",
   "nbconvert_exporter": "python",
   "pygments_lexer": "ipython3",
   "version": "3.10.12"
  },
  "papermill": {
   "default_parameters": {},
   "duration": 21.332767,
   "end_time": "2025-03-22T19:05:12.992432",
   "environment_variables": {},
   "exception": null,
   "input_path": "__notebook__.ipynb",
   "output_path": "__notebook__.ipynb",
   "parameters": {},
   "start_time": "2025-03-22T19:04:51.659665",
   "version": "2.6.0"
  }
 },
 "nbformat": 4,
 "nbformat_minor": 5
}
